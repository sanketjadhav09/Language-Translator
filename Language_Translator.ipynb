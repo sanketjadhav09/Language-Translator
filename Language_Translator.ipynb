{
 "cells": [
  {
   "cell_type": "code",
   "execution_count": null,
   "id": "23a8ea4d-fa1c-4635-a586-36e84885e7b3",
   "metadata": {},
   "outputs": [],
   "source": [
    "!pip install googletrans==4.0.0-rc1"
   ]
  },
  {
   "cell_type": "code",
   "execution_count": 1,
   "id": "bdfc2380-0e91-44e9-a2bf-080c22964f7f",
   "metadata": {},
   "outputs": [
    {
     "name": "stdin",
     "output_type": "stream",
     "text": [
      "Enter the text to translate:  Vehicle\n",
      "Enter the target language code (e.g., 'mr' for Marathi, 'hi' for hindi):  mr\n"
     ]
    },
    {
     "name": "stdout",
     "output_type": "stream",
     "text": [
      "Original Text: Vehicle\n",
      "Translated Text: वाहन\n",
      "Translated to: mr\n"
     ]
    }
   ],
   "source": [
    "from googletrans import Translator\n",
    "\n",
    "# Initialize the translator\n",
    "translator = Translator()\n",
    "\n",
    "# Input text and target language\n",
    "text_to_translate = input(\"Enter the text to translate: \")\n",
    "target_language = input(\"Enter the target language code (e.g., 'mr' for Marathi, 'hi' for hindi): \")\n",
    "\n",
    "# Perform translation\n",
    "try:\n",
    "    translated = translator.translate(text_to_translate, dest=target_language)\n",
    "    print(f\"Original Text: {text_to_translate}\")\n",
    "    print(f\"Translated Text: {translated.text}\")\n",
    "    print(f\"Translated to: {translated.dest}\")\n",
    "except Exception as e:\n",
    "    print(f\"Error: {e}\")\n"
   ]
  }
 ],
 "metadata": {
  "kernelspec": {
   "display_name": "Python 3 (ipykernel)",
   "language": "python",
   "name": "python3"
  },
  "language_info": {
   "codemirror_mode": {
    "name": "ipython",
    "version": 3
   },
   "file_extension": ".py",
   "mimetype": "text/x-python",
   "name": "python",
   "nbconvert_exporter": "python",
   "pygments_lexer": "ipython3",
   "version": "3.11.7"
  }
 },
 "nbformat": 4,
 "nbformat_minor": 5
}
